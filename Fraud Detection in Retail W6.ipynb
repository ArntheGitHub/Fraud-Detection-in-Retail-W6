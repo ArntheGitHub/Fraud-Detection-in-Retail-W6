{
 "cells": [
  {
   "cell_type": "code",
   "execution_count": 1,
   "metadata": {},
   "outputs": [],
   "source": [
    "# Import libraries\n",
    "\n",
    "import pandas as pd\n",
    "import numpy as np \n",
    "import matplotlib.pyplot as plt \n",
    "\n",
    "from sklearn.decomposition import PCA\n",
    "from sklearn.cluster import KMeans\n",
    "from sklearn.model_selection import train_test_split\n",
    "from sklearn.linear_model import LogisticRegression\n",
    "from sklearn.tree import DecisionTreeClassifier\n",
    "from sklearn.ensemble import RandomForestClassifier\n",
    "from sklearn.model_selection import GridSearchCV\n",
    "from sklearn.model_selection import cross_val_score\n",
    "from sklearn.metrics import classification_report\n",
    "from sklearn.metrics import confusion_matrix\n",
    "from sklearn.metrics import make_scorer\n",
    "from sklearn.metrics import f1_score\n",
    "import mglearn"
   ]
  },
  {
   "cell_type": "markdown",
   "metadata": {},
   "source": [
    "# Exercise 1"
   ]
  },
  {
   "cell_type": "code",
   "execution_count": 2,
   "metadata": {
    "scrolled": false
   },
   "outputs": [
    {
     "data": {
      "text/html": [
       "<div>\n",
       "<style scoped>\n",
       "    .dataframe tbody tr th:only-of-type {\n",
       "        vertical-align: middle;\n",
       "    }\n",
       "\n",
       "    .dataframe tbody tr th {\n",
       "        vertical-align: top;\n",
       "    }\n",
       "\n",
       "    .dataframe thead th {\n",
       "        text-align: right;\n",
       "    }\n",
       "</style>\n",
       "<table border=\"1\" class=\"dataframe\">\n",
       "  <thead>\n",
       "    <tr style=\"text-align: right;\">\n",
       "      <th></th>\n",
       "      <th>LevelOfTrust</th>\n",
       "      <th>ScanTimeInSeconds</th>\n",
       "      <th>TotalBasketValue</th>\n",
       "      <th>ScannedProducts</th>\n",
       "      <th>CountOfVoidedScans</th>\n",
       "      <th>ActivateWithoutScan</th>\n",
       "      <th>ModifiedQuantities</th>\n",
       "      <th>Fraud</th>\n",
       "    </tr>\n",
       "  </thead>\n",
       "  <tbody>\n",
       "    <tr>\n",
       "      <th>0</th>\n",
       "      <td>2</td>\n",
       "      <td>1401</td>\n",
       "      <td>58.83</td>\n",
       "      <td>17</td>\n",
       "      <td>2</td>\n",
       "      <td>7</td>\n",
       "      <td>1</td>\n",
       "      <td>0</td>\n",
       "    </tr>\n",
       "    <tr>\n",
       "      <th>1</th>\n",
       "      <td>2</td>\n",
       "      <td>655</td>\n",
       "      <td>57.20</td>\n",
       "      <td>6</td>\n",
       "      <td>7</td>\n",
       "      <td>1</td>\n",
       "      <td>4</td>\n",
       "      <td>0</td>\n",
       "    </tr>\n",
       "    <tr>\n",
       "      <th>2</th>\n",
       "      <td>4</td>\n",
       "      <td>770</td>\n",
       "      <td>36.00</td>\n",
       "      <td>28</td>\n",
       "      <td>11</td>\n",
       "      <td>3</td>\n",
       "      <td>4</td>\n",
       "      <td>0</td>\n",
       "    </tr>\n",
       "    <tr>\n",
       "      <th>3</th>\n",
       "      <td>5</td>\n",
       "      <td>272</td>\n",
       "      <td>89.76</td>\n",
       "      <td>1</td>\n",
       "      <td>4</td>\n",
       "      <td>0</td>\n",
       "      <td>2</td>\n",
       "      <td>0</td>\n",
       "    </tr>\n",
       "    <tr>\n",
       "      <th>4</th>\n",
       "      <td>6</td>\n",
       "      <td>1511</td>\n",
       "      <td>8.75</td>\n",
       "      <td>15</td>\n",
       "      <td>0</td>\n",
       "      <td>7</td>\n",
       "      <td>4</td>\n",
       "      <td>0</td>\n",
       "    </tr>\n",
       "    <tr>\n",
       "      <th>...</th>\n",
       "      <td>...</td>\n",
       "      <td>...</td>\n",
       "      <td>...</td>\n",
       "      <td>...</td>\n",
       "      <td>...</td>\n",
       "      <td>...</td>\n",
       "      <td>...</td>\n",
       "      <td>...</td>\n",
       "    </tr>\n",
       "    <tr>\n",
       "      <th>299995</th>\n",
       "      <td>6</td>\n",
       "      <td>900</td>\n",
       "      <td>31.50</td>\n",
       "      <td>15</td>\n",
       "      <td>1</td>\n",
       "      <td>9</td>\n",
       "      <td>2</td>\n",
       "      <td>0</td>\n",
       "    </tr>\n",
       "    <tr>\n",
       "      <th>299996</th>\n",
       "      <td>4</td>\n",
       "      <td>1395</td>\n",
       "      <td>23.02</td>\n",
       "      <td>11</td>\n",
       "      <td>1</td>\n",
       "      <td>6</td>\n",
       "      <td>0</td>\n",
       "      <td>0</td>\n",
       "    </tr>\n",
       "    <tr>\n",
       "      <th>299997</th>\n",
       "      <td>4</td>\n",
       "      <td>131</td>\n",
       "      <td>87.75</td>\n",
       "      <td>27</td>\n",
       "      <td>1</td>\n",
       "      <td>3</td>\n",
       "      <td>0</td>\n",
       "      <td>0</td>\n",
       "    </tr>\n",
       "    <tr>\n",
       "      <th>299998</th>\n",
       "      <td>2</td>\n",
       "      <td>1724</td>\n",
       "      <td>95.33</td>\n",
       "      <td>20</td>\n",
       "      <td>10</td>\n",
       "      <td>8</td>\n",
       "      <td>3</td>\n",
       "      <td>0</td>\n",
       "    </tr>\n",
       "    <tr>\n",
       "      <th>299999</th>\n",
       "      <td>6</td>\n",
       "      <td>1206</td>\n",
       "      <td>11.49</td>\n",
       "      <td>22</td>\n",
       "      <td>8</td>\n",
       "      <td>3</td>\n",
       "      <td>3</td>\n",
       "      <td>0</td>\n",
       "    </tr>\n",
       "  </tbody>\n",
       "</table>\n",
       "<p>300000 rows × 8 columns</p>\n",
       "</div>"
      ],
      "text/plain": [
       "        LevelOfTrust  ScanTimeInSeconds  TotalBasketValue  ScannedProducts  \\\n",
       "0                  2               1401             58.83               17   \n",
       "1                  2                655             57.20                6   \n",
       "2                  4                770             36.00               28   \n",
       "3                  5                272             89.76                1   \n",
       "4                  6               1511              8.75               15   \n",
       "...              ...                ...               ...              ...   \n",
       "299995             6                900             31.50               15   \n",
       "299996             4               1395             23.02               11   \n",
       "299997             4                131             87.75               27   \n",
       "299998             2               1724             95.33               20   \n",
       "299999             6               1206             11.49               22   \n",
       "\n",
       "        CountOfVoidedScans  ActivateWithoutScan  ModifiedQuantities  Fraud  \n",
       "0                        2                    7                   1      0  \n",
       "1                        7                    1                   4      0  \n",
       "2                       11                    3                   4      0  \n",
       "3                        4                    0                   2      0  \n",
       "4                        0                    7                   4      0  \n",
       "...                    ...                  ...                 ...    ...  \n",
       "299995                   1                    9                   2      0  \n",
       "299996                   1                    6                   0      0  \n",
       "299997                   1                    3                   0      0  \n",
       "299998                  10                    8                   3      0  \n",
       "299999                   8                    3                   3      0  \n",
       "\n",
       "[300000 rows x 8 columns]"
      ]
     },
     "execution_count": 2,
     "metadata": {},
     "output_type": "execute_result"
    }
   ],
   "source": [
    "# Import the data set \"W06_training.txt“\n",
    "\n",
    "df = pd.read_csv('W06_training.txt', delimiter=\";\")\n",
    "df"
   ]
  },
  {
   "cell_type": "code",
   "execution_count": 3,
   "metadata": {},
   "outputs": [
    {
     "data": {
      "text/html": [
       "<div>\n",
       "<style scoped>\n",
       "    .dataframe tbody tr th:only-of-type {\n",
       "        vertical-align: middle;\n",
       "    }\n",
       "\n",
       "    .dataframe tbody tr th {\n",
       "        vertical-align: top;\n",
       "    }\n",
       "\n",
       "    .dataframe thead th {\n",
       "        text-align: right;\n",
       "    }\n",
       "</style>\n",
       "<table border=\"1\" class=\"dataframe\">\n",
       "  <thead>\n",
       "    <tr style=\"text-align: right;\">\n",
       "      <th></th>\n",
       "      <th>LevelOfTrust</th>\n",
       "      <th>ScanTimeInSeconds</th>\n",
       "      <th>TotalBasketValue</th>\n",
       "      <th>ScannedProducts</th>\n",
       "      <th>CountOfVoidedScans</th>\n",
       "      <th>ActivateWithoutScan</th>\n",
       "      <th>ModifiedQuantities</th>\n",
       "    </tr>\n",
       "  </thead>\n",
       "  <tbody>\n",
       "    <tr>\n",
       "      <th>0</th>\n",
       "      <td>2</td>\n",
       "      <td>1401</td>\n",
       "      <td>58.83</td>\n",
       "      <td>17</td>\n",
       "      <td>2</td>\n",
       "      <td>7</td>\n",
       "      <td>1</td>\n",
       "    </tr>\n",
       "    <tr>\n",
       "      <th>1</th>\n",
       "      <td>2</td>\n",
       "      <td>655</td>\n",
       "      <td>57.20</td>\n",
       "      <td>6</td>\n",
       "      <td>7</td>\n",
       "      <td>1</td>\n",
       "      <td>4</td>\n",
       "    </tr>\n",
       "    <tr>\n",
       "      <th>2</th>\n",
       "      <td>4</td>\n",
       "      <td>770</td>\n",
       "      <td>36.00</td>\n",
       "      <td>28</td>\n",
       "      <td>11</td>\n",
       "      <td>3</td>\n",
       "      <td>4</td>\n",
       "    </tr>\n",
       "    <tr>\n",
       "      <th>3</th>\n",
       "      <td>5</td>\n",
       "      <td>272</td>\n",
       "      <td>89.76</td>\n",
       "      <td>1</td>\n",
       "      <td>4</td>\n",
       "      <td>0</td>\n",
       "      <td>2</td>\n",
       "    </tr>\n",
       "    <tr>\n",
       "      <th>4</th>\n",
       "      <td>6</td>\n",
       "      <td>1511</td>\n",
       "      <td>8.75</td>\n",
       "      <td>15</td>\n",
       "      <td>0</td>\n",
       "      <td>7</td>\n",
       "      <td>4</td>\n",
       "    </tr>\n",
       "    <tr>\n",
       "      <th>...</th>\n",
       "      <td>...</td>\n",
       "      <td>...</td>\n",
       "      <td>...</td>\n",
       "      <td>...</td>\n",
       "      <td>...</td>\n",
       "      <td>...</td>\n",
       "      <td>...</td>\n",
       "    </tr>\n",
       "    <tr>\n",
       "      <th>299995</th>\n",
       "      <td>6</td>\n",
       "      <td>900</td>\n",
       "      <td>31.50</td>\n",
       "      <td>15</td>\n",
       "      <td>1</td>\n",
       "      <td>9</td>\n",
       "      <td>2</td>\n",
       "    </tr>\n",
       "    <tr>\n",
       "      <th>299996</th>\n",
       "      <td>4</td>\n",
       "      <td>1395</td>\n",
       "      <td>23.02</td>\n",
       "      <td>11</td>\n",
       "      <td>1</td>\n",
       "      <td>6</td>\n",
       "      <td>0</td>\n",
       "    </tr>\n",
       "    <tr>\n",
       "      <th>299997</th>\n",
       "      <td>4</td>\n",
       "      <td>131</td>\n",
       "      <td>87.75</td>\n",
       "      <td>27</td>\n",
       "      <td>1</td>\n",
       "      <td>3</td>\n",
       "      <td>0</td>\n",
       "    </tr>\n",
       "    <tr>\n",
       "      <th>299998</th>\n",
       "      <td>2</td>\n",
       "      <td>1724</td>\n",
       "      <td>95.33</td>\n",
       "      <td>20</td>\n",
       "      <td>10</td>\n",
       "      <td>8</td>\n",
       "      <td>3</td>\n",
       "    </tr>\n",
       "    <tr>\n",
       "      <th>299999</th>\n",
       "      <td>6</td>\n",
       "      <td>1206</td>\n",
       "      <td>11.49</td>\n",
       "      <td>22</td>\n",
       "      <td>8</td>\n",
       "      <td>3</td>\n",
       "      <td>3</td>\n",
       "    </tr>\n",
       "  </tbody>\n",
       "</table>\n",
       "<p>300000 rows × 7 columns</p>\n",
       "</div>"
      ],
      "text/plain": [
       "        LevelOfTrust  ScanTimeInSeconds  TotalBasketValue  ScannedProducts  \\\n",
       "0                  2               1401             58.83               17   \n",
       "1                  2                655             57.20                6   \n",
       "2                  4                770             36.00               28   \n",
       "3                  5                272             89.76                1   \n",
       "4                  6               1511              8.75               15   \n",
       "...              ...                ...               ...              ...   \n",
       "299995             6                900             31.50               15   \n",
       "299996             4               1395             23.02               11   \n",
       "299997             4                131             87.75               27   \n",
       "299998             2               1724             95.33               20   \n",
       "299999             6               1206             11.49               22   \n",
       "\n",
       "        CountOfVoidedScans  ActivateWithoutScan  ModifiedQuantities  \n",
       "0                        2                    7                   1  \n",
       "1                        7                    1                   4  \n",
       "2                       11                    3                   4  \n",
       "3                        4                    0                   2  \n",
       "4                        0                    7                   4  \n",
       "...                    ...                  ...                 ...  \n",
       "299995                   1                    9                   2  \n",
       "299996                   1                    6                   0  \n",
       "299997                   1                    3                   0  \n",
       "299998                  10                    8                   3  \n",
       "299999                   8                    3                   3  \n",
       "\n",
       "[300000 rows x 7 columns]"
      ]
     },
     "execution_count": 3,
     "metadata": {},
     "output_type": "execute_result"
    }
   ],
   "source": [
    "# Use only the first 7 columns (i.e. ignore the „Fraud“ column for now)\n",
    "\n",
    "y = df['Fraud']\n",
    "df = df.drop(columns='Fraud')\n",
    "df"
   ]
  },
  {
   "cell_type": "code",
   "execution_count": 4,
   "metadata": {
    "scrolled": true
   },
   "outputs": [
    {
     "data": {
      "text/html": [
       "<div>\n",
       "<style scoped>\n",
       "    .dataframe tbody tr th:only-of-type {\n",
       "        vertical-align: middle;\n",
       "    }\n",
       "\n",
       "    .dataframe tbody tr th {\n",
       "        vertical-align: top;\n",
       "    }\n",
       "\n",
       "    .dataframe thead th {\n",
       "        text-align: right;\n",
       "    }\n",
       "</style>\n",
       "<table border=\"1\" class=\"dataframe\">\n",
       "  <thead>\n",
       "    <tr style=\"text-align: right;\">\n",
       "      <th></th>\n",
       "      <th>LevelOfTrust</th>\n",
       "      <th>ScanTimeInSeconds</th>\n",
       "      <th>TotalBasketValue</th>\n",
       "      <th>ScannedProducts</th>\n",
       "      <th>CountOfVoidedScans</th>\n",
       "      <th>ActivateWithoutScan</th>\n",
       "      <th>ModifiedQuantities</th>\n",
       "    </tr>\n",
       "  </thead>\n",
       "  <tbody>\n",
       "    <tr>\n",
       "      <th>0</th>\n",
       "      <td>0.333333</td>\n",
       "      <td>0.729308</td>\n",
       "      <td>0.560713</td>\n",
       "      <td>0.566667</td>\n",
       "      <td>0.181818</td>\n",
       "      <td>0.7</td>\n",
       "      <td>0.2</td>\n",
       "    </tr>\n",
       "    <tr>\n",
       "      <th>1</th>\n",
       "      <td>0.333333</td>\n",
       "      <td>0.340968</td>\n",
       "      <td>0.545177</td>\n",
       "      <td>0.200000</td>\n",
       "      <td>0.636364</td>\n",
       "      <td>0.1</td>\n",
       "      <td>0.8</td>\n",
       "    </tr>\n",
       "    <tr>\n",
       "      <th>2</th>\n",
       "      <td>0.666667</td>\n",
       "      <td>0.400833</td>\n",
       "      <td>0.343119</td>\n",
       "      <td>0.933333</td>\n",
       "      <td>1.000000</td>\n",
       "      <td>0.3</td>\n",
       "      <td>0.8</td>\n",
       "    </tr>\n",
       "    <tr>\n",
       "      <th>3</th>\n",
       "      <td>0.833333</td>\n",
       "      <td>0.141593</td>\n",
       "      <td>0.855509</td>\n",
       "      <td>0.033333</td>\n",
       "      <td>0.363636</td>\n",
       "      <td>0.0</td>\n",
       "      <td>0.4</td>\n",
       "    </tr>\n",
       "    <tr>\n",
       "      <th>4</th>\n",
       "      <td>1.000000</td>\n",
       "      <td>0.786569</td>\n",
       "      <td>0.083397</td>\n",
       "      <td>0.500000</td>\n",
       "      <td>0.000000</td>\n",
       "      <td>0.7</td>\n",
       "      <td>0.8</td>\n",
       "    </tr>\n",
       "    <tr>\n",
       "      <th>...</th>\n",
       "      <td>...</td>\n",
       "      <td>...</td>\n",
       "      <td>...</td>\n",
       "      <td>...</td>\n",
       "      <td>...</td>\n",
       "      <td>...</td>\n",
       "      <td>...</td>\n",
       "    </tr>\n",
       "    <tr>\n",
       "      <th>299995</th>\n",
       "      <td>1.000000</td>\n",
       "      <td>0.468506</td>\n",
       "      <td>0.300229</td>\n",
       "      <td>0.500000</td>\n",
       "      <td>0.090909</td>\n",
       "      <td>0.9</td>\n",
       "      <td>0.4</td>\n",
       "    </tr>\n",
       "    <tr>\n",
       "      <th>299996</th>\n",
       "      <td>0.666667</td>\n",
       "      <td>0.726184</td>\n",
       "      <td>0.219405</td>\n",
       "      <td>0.366667</td>\n",
       "      <td>0.090909</td>\n",
       "      <td>0.6</td>\n",
       "      <td>0.0</td>\n",
       "    </tr>\n",
       "    <tr>\n",
       "      <th>299997</th>\n",
       "      <td>0.666667</td>\n",
       "      <td>0.068194</td>\n",
       "      <td>0.836352</td>\n",
       "      <td>0.900000</td>\n",
       "      <td>0.090909</td>\n",
       "      <td>0.3</td>\n",
       "      <td>0.0</td>\n",
       "    </tr>\n",
       "    <tr>\n",
       "      <th>299998</th>\n",
       "      <td>0.333333</td>\n",
       "      <td>0.897449</td>\n",
       "      <td>0.908597</td>\n",
       "      <td>0.666667</td>\n",
       "      <td>0.909091</td>\n",
       "      <td>0.8</td>\n",
       "      <td>0.6</td>\n",
       "    </tr>\n",
       "    <tr>\n",
       "      <th>299999</th>\n",
       "      <td>1.000000</td>\n",
       "      <td>0.627798</td>\n",
       "      <td>0.109512</td>\n",
       "      <td>0.733333</td>\n",
       "      <td>0.727273</td>\n",
       "      <td>0.3</td>\n",
       "      <td>0.6</td>\n",
       "    </tr>\n",
       "  </tbody>\n",
       "</table>\n",
       "<p>300000 rows × 7 columns</p>\n",
       "</div>"
      ],
      "text/plain": [
       "        LevelOfTrust  ScanTimeInSeconds  TotalBasketValue  ScannedProducts  \\\n",
       "0           0.333333           0.729308          0.560713         0.566667   \n",
       "1           0.333333           0.340968          0.545177         0.200000   \n",
       "2           0.666667           0.400833          0.343119         0.933333   \n",
       "3           0.833333           0.141593          0.855509         0.033333   \n",
       "4           1.000000           0.786569          0.083397         0.500000   \n",
       "...              ...                ...               ...              ...   \n",
       "299995      1.000000           0.468506          0.300229         0.500000   \n",
       "299996      0.666667           0.726184          0.219405         0.366667   \n",
       "299997      0.666667           0.068194          0.836352         0.900000   \n",
       "299998      0.333333           0.897449          0.908597         0.666667   \n",
       "299999      1.000000           0.627798          0.109512         0.733333   \n",
       "\n",
       "        CountOfVoidedScans  ActivateWithoutScan  ModifiedQuantities  \n",
       "0                 0.181818                  0.7                 0.2  \n",
       "1                 0.636364                  0.1                 0.8  \n",
       "2                 1.000000                  0.3                 0.8  \n",
       "3                 0.363636                  0.0                 0.4  \n",
       "4                 0.000000                  0.7                 0.8  \n",
       "...                    ...                  ...                 ...  \n",
       "299995            0.090909                  0.9                 0.4  \n",
       "299996            0.090909                  0.6                 0.0  \n",
       "299997            0.090909                  0.3                 0.0  \n",
       "299998            0.909091                  0.8                 0.6  \n",
       "299999            0.727273                  0.3                 0.6  \n",
       "\n",
       "[300000 rows x 7 columns]"
      ]
     },
     "execution_count": 4,
     "metadata": {},
     "output_type": "execute_result"
    }
   ],
   "source": [
    "# Divide each column by its maximum value, so that each each column is scaled between 0 and 1\n",
    "\n",
    "df_scaled = df.apply(lambda x: x / x.max())\n",
    "df_scaled"
   ]
  },
  {
   "cell_type": "code",
   "execution_count": 5,
   "metadata": {},
   "outputs": [],
   "source": [
    "# preprocessing using 0-1 scaling\n",
    "\n",
    "#scaler = MinMaxScaler()\n",
    "#scaler.fit(X_train)\n",
    "#X_train_scaled = scaler.transform(X_train)\n",
    "#X_test_scaled = scaler.transform(X_test)"
   ]
  },
  {
   "cell_type": "code",
   "execution_count": 6,
   "metadata": {},
   "outputs": [
    {
     "data": {
      "text/plain": [
       "array([0.1848808 , 0.1586412 , 0.15534268, 0.13222208, 0.12823175,\n",
       "       0.12057974, 0.12010175])"
      ]
     },
     "execution_count": 6,
     "metadata": {},
     "output_type": "execute_result"
    }
   ],
   "source": [
    "# Perform a principal component analysis. \n",
    "# Report the explained variance ratio and the components of the first two principal components\n",
    "\n",
    "pca = PCA()\n",
    "pca.fit(df_scaled)\n",
    "evr = pca.explained_variance_ratio_ #Percentage of variance explained by each of the selected components.\n",
    "evr"
   ]
  },
  {
   "cell_type": "markdown",
   "metadata": {},
   "source": [
    "Principal component analysis or PCA is one of the oldest dimensionality reduction methods.\n",
    "Principal component analysis is a method that rotates the dataset in a way such that the rotated features are statistically uncorrelated. This rotation is often followed by selecting only a subset of the new features, according to how important they are for explaining the data.\n",
    "\n",
    "The first plot (top left) shows the original data points, colored to distinguish among them. The algorithm proceeds by first finding the direction of maximum variance, labeled “Component 1.” This is the direction (or vector) in the data that contains most of the information, or in other words, the direction along which the features are most correlated with each other. Then, the algorithm finds the direction that contains the most information while being orthogonal (at a right angle) to the first direction. In two dimensions, there is only one possible orientation that is at a right angle, but in higher-dimensional spaces there would be (infinitely) many orthogonal directions. Although the two components are drawn as arrows, it doesn’t really matter where the head and the tail are; we could have drawn the first component from the center up to the top left instead of down to the bottom right. The directions found using this process are called principal components, as they are the main directions of variance in the data. In general, there are as many principal components as original features.\n",
    "\n",
    "One of the most common applications of PCA is visualizing high-dimensional datasets."
   ]
  },
  {
   "cell_type": "code",
   "execution_count": 7,
   "metadata": {},
   "outputs": [
    {
     "data": {
      "image/png": "[encoded data removed]",
      "text/plain": [
       "<Figure size 720x720 with 4 Axes>"
      ]
     },
     "metadata": {
      "needs_background": "light"
     },
     "output_type": "display_data"
    }
   ],
   "source": [
    "# Transformation of Data with PCA Figure 3-3\n",
    "\n",
    "mglearn.plots.plot_pca_illustration()"
   ]
  },
  {
   "cell_type": "markdown",
   "metadata": {},
   "source": [
    "The second plot (top right) shows the same data, but now rotated so that the first principal component aligns with the x-axis and the second principal component aligns with the y-axis. Before the rotation, the mean was subtracted from the data, so that the transformed data is centered around zero. In the rotated representation found by PCA, the two axes are uncorrelated, meaning that the correlation matrix of the data in this representation is zero except for the diagonal.\n",
    "\n",
    "We can use PCA for dimensionality reduction by retaining only some of the principal components. In this example, we might keep only the first principal component, as shown in the third panel in Figure 3-3 (bottom left). This reduces the data from a two-dimensional dataset to a one-dimensional dataset. Note, however, that instead of keeping only one of the original features, we found the most interesting direction (top left to bottom right in the first panel) and kept this direction, the first principal component.\n",
    "\n",
    "Finally, we can undo the rotation and add the mean back to the data. This will result in the data shown in the last panel in Figure 3-3. These points are in the original feature space, but we kept only the information contained in the first principal component. This transformation is sometimes used to remove noise effects from the data or visualize what part of the information is retained using the principal components."
   ]
  },
  {
   "cell_type": "code",
   "execution_count": 8,
   "metadata": {},
   "outputs": [
    {
     "data": {
      "text/html": [
       "<div>\n",
       "<style scoped>\n",
       "    .dataframe tbody tr th:only-of-type {\n",
       "        vertical-align: middle;\n",
       "    }\n",
       "\n",
       "    .dataframe tbody tr th {\n",
       "        vertical-align: top;\n",
       "    }\n",
       "\n",
       "    .dataframe thead th {\n",
       "        text-align: right;\n",
       "    }\n",
       "</style>\n",
       "<table border=\"1\" class=\"dataframe\">\n",
       "  <thead>\n",
       "    <tr style=\"text-align: right;\">\n",
       "      <th></th>\n",
       "      <th>Explained variance ratio</th>\n",
       "    </tr>\n",
       "  </thead>\n",
       "  <tbody>\n",
       "    <tr>\n",
       "      <th>1st</th>\n",
       "      <td>0.184881</td>\n",
       "    </tr>\n",
       "    <tr>\n",
       "      <th>2nd</th>\n",
       "      <td>0.158641</td>\n",
       "    </tr>\n",
       "  </tbody>\n",
       "</table>\n",
       "</div>"
      ],
      "text/plain": [
       "     Explained variance ratio\n",
       "1st                  0.184881\n",
       "2nd                  0.158641"
      ]
     },
     "execution_count": 8,
     "metadata": {},
     "output_type": "execute_result"
    }
   ],
   "source": [
    "# The components of the first two principal components\n",
    "\n",
    "pd.DataFrame(evr[:2], columns=['Explained variance ratio'], index=['1st', '2nd'])"
   ]
  },
  {
   "cell_type": "code",
   "execution_count": 9,
   "metadata": {},
   "outputs": [
    {
     "name": "stdout",
     "output_type": "stream",
     "text": [
      "Components of the first two principal components\n"
     ]
    },
    {
     "data": {
      "text/html": [
       "<div>\n",
       "<style scoped>\n",
       "    .dataframe tbody tr th:only-of-type {\n",
       "        vertical-align: middle;\n",
       "    }\n",
       "\n",
       "    .dataframe tbody tr th {\n",
       "        vertical-align: top;\n",
       "    }\n",
       "\n",
       "    .dataframe thead th {\n",
       "        text-align: right;\n",
       "    }\n",
       "</style>\n",
       "<table border=\"1\" class=\"dataframe\">\n",
       "  <thead>\n",
       "    <tr style=\"text-align: right;\">\n",
       "      <th></th>\n",
       "      <th>LevelOfTrust</th>\n",
       "      <th>ScanTimeInSeconds</th>\n",
       "      <th>TotalBasketValue</th>\n",
       "      <th>ScannedProducts</th>\n",
       "      <th>CountOfVoidedScans</th>\n",
       "      <th>ActivateWithoutScan</th>\n",
       "      <th>ModifiedQuantities</th>\n",
       "    </tr>\n",
       "  </thead>\n",
       "  <tbody>\n",
       "    <tr>\n",
       "      <th>1st</th>\n",
       "      <td>-0.001364</td>\n",
       "      <td>0.000306</td>\n",
       "      <td>0.00272</td>\n",
       "      <td>-0.010662</td>\n",
       "      <td>0.002007</td>\n",
       "      <td>0.011759</td>\n",
       "      <td>0.999867</td>\n",
       "    </tr>\n",
       "    <tr>\n",
       "      <th>2nd</th>\n",
       "      <td>-0.013057</td>\n",
       "      <td>0.001897</td>\n",
       "      <td>-0.00708</td>\n",
       "      <td>0.018096</td>\n",
       "      <td>-0.168284</td>\n",
       "      <td>-0.985384</td>\n",
       "      <td>0.012120</td>\n",
       "    </tr>\n",
       "  </tbody>\n",
       "</table>\n",
       "</div>"
      ],
      "text/plain": [
       "     LevelOfTrust  ScanTimeInSeconds  TotalBasketValue  ScannedProducts  \\\n",
       "1st     -0.001364           0.000306           0.00272        -0.010662   \n",
       "2nd     -0.013057           0.001897          -0.00708         0.018096   \n",
       "\n",
       "     CountOfVoidedScans  ActivateWithoutScan  ModifiedQuantities  \n",
       "1st            0.002007             0.011759            0.999867  \n",
       "2nd           -0.168284            -0.985384            0.012120  "
      ]
     },
     "execution_count": 9,
     "metadata": {},
     "output_type": "execute_result"
    }
   ],
   "source": [
    "#The principal components themselves are stored in the components_ attribute of the PCA object during fitting:\n",
    "\n",
    "print('Components of the first two principal components')\n",
    "pd.DataFrame(pca.components_[:2], columns=df.columns, index=['1st', '2nd'])"
   ]
  },
  {
   "cell_type": "code",
   "execution_count": null,
   "metadata": {},
   "outputs": [],
   "source": []
  },
  {
   "cell_type": "code",
   "execution_count": null,
   "metadata": {},
   "outputs": [],
   "source": []
  },
  {
   "cell_type": "code",
   "execution_count": 10,
   "metadata": {},
   "outputs": [
    {
     "data": {
      "image/png": "[encoded data removed]",
      "text/plain": [
       "<Figure size 720x576 with 9 Axes>"
      ]
     },
     "metadata": {},
     "output_type": "display_data"
    }
   ],
   "source": [
    "mglearn.plots.plot_kmeans_algorithm()"
   ]
  },
  {
   "cell_type": "markdown",
   "metadata": {},
   "source": [
    "k-Means Clustering\n",
    "\n",
    "k-means clustering is one of the simplest and most commonly used clustering algorithms. It tries to find cluster centers that are representative of certain regions of the data. The algorithm alternates between two steps: assigning each data point to the closest cluster center, and then setting each cluster center as the mean of the data points that are assigned to it. The algorithm is finished when the assignment of instances to clusters no longer changes.\n",
    "\n",
    "Cluster centers are shown as triangles, while data points are shown as circles. Colors indicate cluster membership. In the example below, we specified that we are looking for three clusters, so the algorithm was initialized by declaring three data points randomly as cluster centers. Then the iterative algorithm starts. \n",
    "\n",
    "First, each data point is assigned to the cluster center it is closest to. Next, the cluster centers are updated to be the mean of the assigned points. Then the process is repeated two more times. After the third iteration, the assignment of points to cluster centers remained unchanged, so the algorithm stops.\n"
   ]
  },
  {
   "cell_type": "code",
   "execution_count": 11,
   "metadata": {},
   "outputs": [
    {
     "data": {
      "image/png": "[encoded data removed]",
      "text/plain": [
       "<Figure size 432x288 with 1 Axes>"
      ]
     },
     "metadata": {},
     "output_type": "display_data"
    }
   ],
   "source": [
    "# Given new data points, k-means will assign each to the closest cluster center. \n",
    "# The next example (Figure 3-24) shows the boundaries of the cluster centers that were learned in Figure 3-23:\n",
    "\n",
    "mglearn.plots.plot_kmeans_boundaries()"
   ]
  },
  {
   "cell_type": "code",
   "execution_count": null,
   "metadata": {},
   "outputs": [],
   "source": []
  },
  {
   "cell_type": "markdown",
   "metadata": {},
   "source": [
    "Here, we apply it to the synthetic data that we used for the preceding plots. \n",
    "We instantiate the KMeans class, and set the number of clusters we are looking for. Then we call the fit method with the data."
   ]
  },
  {
   "cell_type": "code",
   "execution_count": 12,
   "metadata": {},
   "outputs": [
    {
     "name": "stdout",
     "output_type": "stream",
     "text": [
      "[0 2 2 ... 0 1 2]\n"
     ]
    }
   ],
   "source": [
    "# Perform a k-means cluster analysis to derive a solution with 3 clusters. \n",
    "# For comparison use KMeans(n_clusters=3, random_state=100) to always get the same results.\n",
    "# Report the components of the cluster centers and the size of the clusters \n",
    "# (i.e. the number of data points assigned to each cluster)\n",
    "\n",
    "model = KMeans(n_clusters=3, random_state=100)\n",
    "model.fit(df_scaled)\n",
    "labels = model.predict(df_scaled)\n",
    "print(labels)\n"
   ]
  },
  {
   "cell_type": "code",
   "execution_count": 13,
   "metadata": {
    "scrolled": true
   },
   "outputs": [
    {
     "name": "stdout",
     "output_type": "stream",
     "text": [
      "Cluster centers\n"
     ]
    },
    {
     "data": {
      "text/html": [
       "<div>\n",
       "<style scoped>\n",
       "    .dataframe tbody tr th:only-of-type {\n",
       "        vertical-align: middle;\n",
       "    }\n",
       "\n",
       "    .dataframe tbody tr th {\n",
       "        vertical-align: top;\n",
       "    }\n",
       "\n",
       "    .dataframe thead th {\n",
       "        text-align: right;\n",
       "    }\n",
       "</style>\n",
       "<table border=\"1\" class=\"dataframe\">\n",
       "  <thead>\n",
       "    <tr style=\"text-align: right;\">\n",
       "      <th></th>\n",
       "      <th>LevelOfTrust</th>\n",
       "      <th>ScanTimeInSeconds</th>\n",
       "      <th>TotalBasketValue</th>\n",
       "      <th>ScannedProducts</th>\n",
       "      <th>CountOfVoidedScans</th>\n",
       "      <th>ActivateWithoutScan</th>\n",
       "      <th>ModifiedQuantities</th>\n",
       "    </tr>\n",
       "  </thead>\n",
       "  <tbody>\n",
       "    <tr>\n",
       "      <th>0</th>\n",
       "      <td>0.583552</td>\n",
       "      <td>0.476425</td>\n",
       "      <td>0.475896</td>\n",
       "      <td>0.516744</td>\n",
       "      <td>0.501803</td>\n",
       "      <td>0.500564</td>\n",
       "      <td>0.154004</td>\n",
       "    </tr>\n",
       "    <tr>\n",
       "      <th>1</th>\n",
       "      <td>0.586190</td>\n",
       "      <td>0.474106</td>\n",
       "      <td>0.477564</td>\n",
       "      <td>0.510935</td>\n",
       "      <td>0.521116</td>\n",
       "      <td>0.791210</td>\n",
       "      <td>0.739286</td>\n",
       "    </tr>\n",
       "    <tr>\n",
       "      <th>2</th>\n",
       "      <td>0.582460</td>\n",
       "      <td>0.478819</td>\n",
       "      <td>0.476625</td>\n",
       "      <td>0.520049</td>\n",
       "      <td>0.474890</td>\n",
       "      <td>0.206942</td>\n",
       "      <td>0.735576</td>\n",
       "    </tr>\n",
       "  </tbody>\n",
       "</table>\n",
       "</div>"
      ],
      "text/plain": [
       "   LevelOfTrust  ScanTimeInSeconds  TotalBasketValue  ScannedProducts  \\\n",
       "0      0.583552           0.476425          0.475896         0.516744   \n",
       "1      0.586190           0.474106          0.477564         0.510935   \n",
       "2      0.582460           0.478819          0.476625         0.520049   \n",
       "\n",
       "   CountOfVoidedScans  ActivateWithoutScan  ModifiedQuantities  \n",
       "0            0.501803             0.500564            0.154004  \n",
       "1            0.521116             0.791210            0.739286  \n",
       "2            0.474890             0.206942            0.735576  "
      ]
     },
     "execution_count": 13,
     "metadata": {},
     "output_type": "execute_result"
    }
   ],
   "source": [
    "print('Cluster centers')\n",
    "centroids = model.cluster_centers_\n",
    "pd.DataFrame(centroids, columns=df.columns)"
   ]
  },
  {
   "cell_type": "code",
   "execution_count": 14,
   "metadata": {
    "scrolled": false
   },
   "outputs": [
    {
     "data": {
      "text/html": [
       "<div>\n",
       "<style scoped>\n",
       "    .dataframe tbody tr th:only-of-type {\n",
       "        vertical-align: middle;\n",
       "    }\n",
       "\n",
       "    .dataframe tbody tr th {\n",
       "        vertical-align: top;\n",
       "    }\n",
       "\n",
       "    .dataframe thead th {\n",
       "        text-align: right;\n",
       "    }\n",
       "</style>\n",
       "<table border=\"1\" class=\"dataframe\">\n",
       "  <thead>\n",
       "    <tr style=\"text-align: right;\">\n",
       "      <th></th>\n",
       "      <th>Cluster Size</th>\n",
       "    </tr>\n",
       "  </thead>\n",
       "  <tbody>\n",
       "    <tr>\n",
       "      <th>0</th>\n",
       "      <td>122503</td>\n",
       "    </tr>\n",
       "    <tr>\n",
       "      <th>1</th>\n",
       "      <td>88951</td>\n",
       "    </tr>\n",
       "    <tr>\n",
       "      <th>2</th>\n",
       "      <td>88546</td>\n",
       "    </tr>\n",
       "  </tbody>\n",
       "</table>\n",
       "</div>"
      ],
      "text/plain": [
       "   Cluster Size\n",
       "0        122503\n",
       "1         88951\n",
       "2         88546"
      ]
     },
     "execution_count": 14,
     "metadata": {},
     "output_type": "execute_result"
    }
   ],
   "source": [
    "pd.Series(labels).value_counts().to_frame('Cluster Size')"
   ]
  },
  {
   "cell_type": "markdown",
   "metadata": {},
   "source": [
    "# Exercise 2 "
   ]
  },
  {
   "cell_type": "markdown",
   "metadata": {},
   "source": [
    "Context:\n",
    "\n",
    "Your client is a grocery retailer facing increasing pressure from expanding competition. To reduce personnel costs while at the same time improving service quality, it has been relying on self-service checkout stations for some time now. At these stations, customers can scan their products themselves and pay directly. \n",
    "The self-checkout stations help avoid long queues and speed up the payment process for individuals. However, it also offers the opportunity to cheat when scanning the products.\n",
    "\n",
    "In order to identify fraudulent actions without upsetting innocent customers through controls, the company has commissioned you and your team as an external consultancy to develop a model that determines the probability of fraud in self-checkout purchases. \n",
    "\n",
    "Your assignment is now to use the collected data and develop a high-performance model for predicting or detecting fraud and to identify the key indicators for fraudulent behavior.\n",
    "When creating the classification model the following costs and revenues should be considered:\n",
    "\n",
    "\n",
    "The table shows that each correctly identified fraud attempt brings in an average of EUR 5 additional revenue. Each fraud attempt that is not detected, however, causes 5 EUR costs. Customers who are falsely accused of fraud may not return, which means an average loss of 25 EUR for the supermarket. Correctly identified honest customers mean neither profit nor loss."
   ]
  },
  {
   "cell_type": "code",
   "execution_count": null,
   "metadata": {},
   "outputs": [],
   "source": []
  },
  {
   "cell_type": "markdown",
   "metadata": {},
   "source": [
    "Task:\n",
    "\n",
    "The aim of the analysis is to use the data set of 300,000 cases (W06_training.txt) to train a model that is suitable for detecting fraud attempts. The prediction of your model is finally checked with the help of another data set with 100,000 purchases for which you do not know the target variable. This data set (W06_scoring.txt) is used to evaluate how well your model’s prediction works, using the total cost or total revenue. \n",
    "\n",
    "This means that you must ensure that there is no overfitting when training your model, otherwise the prediction on the new data set will give poor results. To do this, you should split your data set into training and test data or use a suitable cross-validation method to avoid overfitting."
   ]
  },
  {
   "cell_type": "code",
   "execution_count": 15,
   "metadata": {},
   "outputs": [
    {
     "data": {
      "text/plain": [
       "14328"
      ]
     },
     "execution_count": 15,
     "metadata": {},
     "output_type": "execute_result"
    }
   ],
   "source": [
    "# Get an overview and understanding of the available data\n",
    "\n",
    "sum(y)"
   ]
  },
  {
   "cell_type": "markdown",
   "metadata": {},
   "source": [
    "Only 14328 out of 300000 are fraud - that is 4.776%.\n",
    "We should get a similar percentage in the scoring data, assuming they have the same distibution"
   ]
  },
  {
   "cell_type": "code",
   "execution_count": 38,
   "metadata": {},
   "outputs": [],
   "source": [
    "# Clean the data if necessary and derive new “smart” variables\n",
    "# (e.g. scale the data or compute ratios of given variables) that can be used for the predictions\n",
    "# the scaled DataFrame from exercise 1 is used for the train_test_split\n",
    "\n",
    "# This stratify parameter makes a split so that the proportion of values in the sample produced will be the same \n",
    "# as the proportion of values provided to parameter stratify.\n",
    "# E.g., if variable y is a binary categorical variable with values 0 and 1 and there are 25% of zeros and 75% \n",
    "# of ones, stratify=y will make sure that your random split has 25% of 0's and 75% of 1's.\n",
    "\n",
    "X_train_val, X_test, y_train_val, y_test = train_test_split(df_scaled, y, random_state=4, \n",
    "                                                            stratify=y, test_size=0.1)\n",
    "\n",
    "X_train, X_val, y_train, y_val = train_test_split(X_train_val, y_train_val, \n",
    "                                                  random_state=40, stratify=y_train_val)"
   ]
  },
  {
   "cell_type": "markdown",
   "metadata": {},
   "source": [
    "To evaluate our supervised models, so far we have split our dataset into a training set and a test set using the train_test_split function, built a model on the training set by calling the fit method, and evaluated it on the test set using the score method, which for classification computes the fraction of correctly classified samples.\n",
    "\n",
    "The reason we split our data into training and test sets is that we are interested in measuring how well our model generalizes to new, previously unseen data. We are not interested in how well our model fit the training set, but rather in how well it can make predictions for data that was not observed during training."
   ]
  },
  {
   "cell_type": "code",
   "execution_count": 17,
   "metadata": {
    "scrolled": true
   },
   "outputs": [
    {
     "data": {
      "image/png": "[encoded data removed]",
      "text/plain": [
       "<Figure size 720x720 with 1 Axes>"
      ]
     },
     "metadata": {
      "needs_background": "light"
     },
     "output_type": "display_data"
    }
   ],
   "source": [
    "# Determine which characteristics are key characteristics as they are driving fraudulent behavior\n",
    "\n",
    "# Decision trees are widely used models for classification and regression tasks. \n",
    "# Essentially, they learn a hierarchy of if/else questions, leading to a decision.\n",
    "\n",
    "clf = DecisionTreeClassifier(random_state=40)\n",
    "clf.fit(X_train, y_train)\n",
    "plt.figure(figsize=(10,10))\n",
    "plt.barh(width=clf.feature_importances_, y=X_train_val.columns.values)\n",
    "plt.show()"
   ]
  },
  {
   "cell_type": "markdown",
   "metadata": {},
   "source": [
    "As we can see, if we fit a Decision Tree Classifier, the features with more importance are: ScannedProducts, LevelOfTrust and ScanTimeInSeconds"
   ]
  },
  {
   "cell_type": "code",
   "execution_count": 18,
   "metadata": {},
   "outputs": [
    {
     "name": "stdout",
     "output_type": "stream",
     "text": [
      "Accuracy on training set: 0.99108\n",
      "Accuracy on validation set: 0.99092\n",
      "f1 score on training set: 0.90503\n",
      "f1 score on validation set: 0.90305\n"
     ]
    }
   ],
   "source": [
    "# Use the appropriate classification algorithms e.g. LogisticRegression &/or Random Forest and make predictions. \n",
    "# If necessary, tune the parameters of the model\n",
    "\n",
    "logreg = LogisticRegression(max_iter=100)\n",
    "logreg.fit(X_train, y_train)\n",
    "print(\"Accuracy on training set: {:.5f}\".format(logreg.score(X_train, y_train)))\n",
    "print(\"Accuracy on validation set: {:.5f}\".format(logreg.score(X_val, y_val)))\n",
    "\n",
    "y_pred_train = logreg.predict(X_train)\n",
    "print(\"f1 score on training set: {:.5f}\".format(f1_score(y_train, y_pred_train)))\n",
    "y_pred_val = logreg.predict(X_val)\n",
    "print(\"f1 score on validation set: {:.5f}\".format(f1_score(y_val, y_pred_val)))"
   ]
  },
  {
   "cell_type": "markdown",
   "metadata": {},
   "source": [
    "Definition of cross-validation and it worked: "
   ]
  },
  {
   "cell_type": "markdown",
   "metadata": {},
   "source": [
    "Cross-validation is a statistical method of evaluating generalization performance that is more stable and thorough than using a split into a training and a test set. In cross- validation, the data is instead split repeatedly and multiple models are trained. \n",
    "\n",
    "The most commonly used version of cross-validation is k-fold cross-validation, where k is a user-specified number, usually 5 or 10. When performing five-fold cross-validation, the data is first partitioned into five parts of (approximately) equal size, called folds. Next, a sequence of models is trained. \n",
    "\n",
    "The first model is trained using the first fold as the test set, and the remaining folds (2–5) are used as the training set. The model is built using the data in folds 2–5, and then the accuracy is evaluated on fold 1. Then another model is built, this time using fold 2 as the test set and the data in folds 1, 3, 4, and 5 as the training set. \n",
    "\n",
    "This process is repeated using folds 3, 4, and 5 as test sets. For each of these five splits of the data into training and test sets, we compute the accuracy. In the end, we have collected five accuracy values."
   ]
  },
  {
   "cell_type": "markdown",
   "metadata": {},
   "source": [
    "In the end, we have collected five accuracy values. The process is illustrated in Figure 5-1:"
   ]
  },
  {
   "cell_type": "code",
   "execution_count": 19,
   "metadata": {},
   "outputs": [
    {
     "data": {
      "image/png": "[encoded data removed]",
      "text/plain": [
       "<Figure size 864x144 with 1 Axes>"
      ]
     },
     "metadata": {
      "needs_background": "light"
     },
     "output_type": "display_data"
    }
   ],
   "source": [
    "# Figure 5-1. Data splitting in five-fold cross-validation\n",
    "\n",
    "mglearn.plots.plot_cross_validation()"
   ]
  },
  {
   "cell_type": "markdown",
   "metadata": {},
   "source": [
    "Usually, the first fifth of the data is the first fold, the second fifth of the data is the second fold, and so on."
   ]
  },
  {
   "cell_type": "code",
   "execution_count": null,
   "metadata": {},
   "outputs": [],
   "source": []
  },
  {
   "cell_type": "markdown",
   "metadata": {},
   "source": [
    "Benefits of Cross-Validation:\n",
    "\n",
    "There are several benefits to using cross-validation instead of a single split into a training and a test set. First, remember that train_test_split performs a random split of the data. Imagine that we are “lucky” when randomly splitting the data, and all examples that are hard to classify end up in the training set. In that case, the test set will only contain “easy” examples, and our test set accuracy will be unrealistically high.\n",
    "\n",
    "Conversely, if we are “unlucky,” we might have randomly put all the hard-to- classify examples in the test set and consequently obtain an unrealistically low score. However, when using cross-validation, each example will be in the training set exactly once: each example is in one of the folds, and each fold is the test set once. Therefore, the model needs to generalize well to all of the samples in the dataset for all of the cross-validation scores (and their mean) to be high.\n",
    "\n",
    "Having multiple splits of the data also provides some information about how sensi‐ tive our model is to the selection of the training dataset. \n",
    "\n",
    "Another benefit of cross-validation as compared to using a single split of the data is that we use our data more effectively. When using train_test_split, we usually use 75% of the data for training and 25% of the data for evaluation. When using five-fold cross-validation, in each iteration we can use four-fifths of the data (80%) to fit the model. When using 10-fold cross-validation, we can use nine-tenths of the data (90%) to fit the model. More data will usually result in more accurate models.\n",
    "\n",
    "The disadvantage of cross-validation:\n",
    "\n",
    "The main disadvantage of cross-validation is increased computational cost. As we are now training k models instead of a single model, cross-validation will be roughly k times slower than doing a single split of the data.\n",
    "\n",
    "Important note:\n",
    "\n",
    "It is important to keep in mind that cross-validation is not a way to build a model that can be applied to new data. Cross-validation does not return a model. When calling cross_val_score, multiple models are built internally, but the purpose of cross-validation is only to evaluate how well a given algorithm will generalize when trained on a specific dataset."
   ]
  },
  {
   "cell_type": "code",
   "execution_count": 20,
   "metadata": {},
   "outputs": [
    {
     "name": "stdout",
     "output_type": "stream",
     "text": [
      "[0.90299685 0.90616941 0.90539206 0.89561091 0.90702236]\n"
     ]
    },
    {
     "data": {
      "text/plain": [
       "0.9034383182830974"
      ]
     },
     "execution_count": 20,
     "metadata": {},
     "output_type": "execute_result"
    }
   ],
   "source": [
    "# The parameters of the cross_val_score function are the model we want to evaluate, the training data, \n",
    "# and the ground-truth labels. Let’s evaluate LogisticRegression on the dataset and summarize \n",
    "# the cross-validation accuracy is to compute the mean:\n",
    "\n",
    "cv_scores = cross_val_score(logreg, X_train_val, y_train_val, cv=5, scoring='f1')\n",
    "print(cv_scores)\n",
    "np.mean(cv_scores)"
   ]
  },
  {
   "cell_type": "code",
   "execution_count": null,
   "metadata": {},
   "outputs": [],
   "source": []
  },
  {
   "cell_type": "markdown",
   "metadata": {},
   "source": [
    "What is a random forest?\n",
    "\n",
    "A random forest is a machine learning technique that’s used to solve regression and classification problems. It utilizes ensemble learning, which is a technique that combines many classifiers to provide solutions to complex problems.\n",
    "\n",
    "A random forest algorithm consists of many decision trees. The ‘forest’ generated by the random forest algorithm is trained through bagging or bootstrap aggregating. Bagging is an ensemble meta-algorithm that improves the accuracy of machine learning algorithms.\n",
    "\n",
    "The (random forest) algorithm establishes the outcome based on the predictions of the decision trees. It predicts by taking the average or mean of the output from various trees. Increasing the number of trees increases the precision of the outcome.\n",
    "\n",
    "A random forest eradicates the limitations of a decision tree algorithm. It reduces the overfitting of datasets and increases precision. It generates predictions without requiring many configurations in packages"
   ]
  },
  {
   "cell_type": "markdown",
   "metadata": {},
   "source": [
    "Features of a Random Forest Algorithm\n",
    "\n",
    "It’s more accurate than the decision tree algorithm.\n",
    "It provides an effective way of handling missing data.\n",
    "It can produce a reasonable prediction without hyper-parameter tuning.\n",
    "It solves the issue of overfitting in decision trees.\n",
    "In every random forest tree, a subset of features is selected randomly at the node’s splitting point."
   ]
  },
  {
   "cell_type": "code",
   "execution_count": 21,
   "metadata": {},
   "outputs": [
    {
     "name": "stdout",
     "output_type": "stream",
     "text": [
      "Accuracy on training set: 0.987\n",
      "Accuracy on test set: 0.987\n",
      "f1 score on training set: 0.86298\n",
      "f1 score on validation set: 0.86416\n"
     ]
    }
   ],
   "source": [
    "forest = RandomForestClassifier(n_estimators=50, max_depth=5, max_features=5, random_state=30, n_jobs=-1)\n",
    "forest.fit(X_train, y_train)\n",
    "print(\"Accuracy on training set: {:.3f}\".format(forest.score(X_train, y_train)))\n",
    "print(\"Accuracy on test set: {:.3f}\".format(forest.score(X_val, y_val)))\n",
    "\n",
    "y_pred_train = forest.predict(X_train)\n",
    "print(\"f1 score on training set: {:.5f}\".format(f1_score(y_train, y_pred_train)))\n",
    "y_pred_val = forest.predict(X_val)\n",
    "print(\"f1 score on validation set: {:.5f}\".format(f1_score(y_val, y_pred_val)))"
   ]
  },
  {
   "cell_type": "code",
   "execution_count": 22,
   "metadata": {},
   "outputs": [
    {
     "name": "stderr",
     "output_type": "stream",
     "text": [
      "/Users/Olympio/opt/anaconda3/lib/python3.7/site-packages/joblib/externals/loky/process_executor.py:706: UserWarning: A worker stopped while some jobs were given to the executor. This can be caused by a too short worker timeout or by a memory leak.\n",
      "  \"timeout or by a memory leak.\", UserWarning\n",
      "/Users/Olympio/opt/anaconda3/lib/python3.7/site-packages/joblib/externals/loky/process_executor.py:706: UserWarning: A worker stopped while some jobs were given to the executor. This can be caused by a too short worker timeout or by a memory leak.\n",
      "  \"timeout or by a memory leak.\", UserWarning\n"
     ]
    },
    {
     "name": "stdout",
     "output_type": "stream",
     "text": [
      "[0.84091841 0.84892086 0.85485855 0.84623281 0.84598349]\n"
     ]
    },
    {
     "data": {
      "text/plain": [
       "0.8473828237050111"
      ]
     },
     "execution_count": 22,
     "metadata": {},
     "output_type": "execute_result"
    }
   ],
   "source": [
    "cv_scores = cross_val_score(forest, X_train_val, y_train_val, cv=5, scoring='f1')\n",
    "print(cv_scores)\n",
    "np.mean(cv_scores)"
   ]
  },
  {
   "cell_type": "markdown",
   "metadata": {},
   "source": [
    "We can see that the Logistic Regression performs better, so we will do a gridsearch to find the best value for C, the inverse of regularization strength"
   ]
  },
  {
   "cell_type": "markdown",
   "metadata": {},
   "source": [
    "Grid Search\n",
    "\n",
    "Now that we know how to evaluate how well a model generalizes, we can take the next step and improve the model’s generalization performance by tuning its parameters.\n",
    "\n",
    "Finding the values of the important parameters of a model (the ones that provide the best generalization performance) is a tricky task, but necessary for almost all models and datasets. Because it is such a common task, there are standard methods in scikit-learn to help you with it. The most commonly used method is grid search, which basically means trying all possible combinations of the parameters of interest.\n",
    "\n",
    "Consider the case of a kernel SVM with an RBF (radial basis function) kernel, as implemented in the SVC class.\n",
    "\n",
    "There are two important parameters: the kernel bandwidth, gamma, and the regularization parameter, C. Say we want to try the values 0.001, 0.01, 0.1, 1, 10, and 100 for the parameter C, and the same for gamma. Because we have six different settings for C and gamma that we want to try, we have 36 combinations of parameters in total."
   ]
  },
  {
   "cell_type": "code",
   "execution_count": 23,
   "metadata": {},
   "outputs": [
    {
     "data": {
      "text/plain": [
       "array([1.e-05, 1.e-04, 1.e-03, 1.e-02, 1.e-01, 1.e+00, 1.e+01, 1.e+02,\n",
       "       1.e+03, 1.e+04, 1.e+05])"
      ]
     },
     "execution_count": 23,
     "metadata": {},
     "output_type": "execute_result"
    }
   ],
   "source": [
    "c_space = np.logspace(-5, 5, 11)\n",
    "c_space"
   ]
  },
  {
   "cell_type": "code",
   "execution_count": 24,
   "metadata": {},
   "outputs": [
    {
     "name": "stdout",
     "output_type": "stream",
     "text": [
      "Tuned Logistic Regression Parameters: {'C': 100.0}\n",
      "Best score is 0.9063409895170171\n"
     ]
    }
   ],
   "source": [
    "param_grid = {'C': c_space}\n",
    "logreg2 = LogisticRegression()\n",
    "logreg_cv = GridSearchCV(logreg2, param_grid, cv=5, scoring='f1')\n",
    "logreg_cv.fit(X_train_val, y_train_val)\n",
    "\n",
    "print(\"Tuned Logistic Regression Parameters: {}\".format(logreg_cv.best_params_)) \n",
    "print(\"Best score is {}\".format(logreg_cv.best_score_))"
   ]
  },
  {
   "cell_type": "code",
   "execution_count": 25,
   "metadata": {},
   "outputs": [],
   "source": [
    "# Measure the quality of the model or compare the quality of the models and choose a final model"
   ]
  },
  {
   "cell_type": "markdown",
   "metadata": {},
   "source": [
    "Confusion matrices\n",
    "\n",
    "One of the most comprehensive ways to represent the result of evaluating binary classification is using confusion matrices."
   ]
  },
  {
   "cell_type": "markdown",
   "metadata": {},
   "source": [
    "Let's compare the confusion matrix for the Logistic Regression with the default value of C, and the one we found doing the gridsearch"
   ]
  },
  {
   "cell_type": "code",
   "execution_count": 26,
   "metadata": {},
   "outputs": [
    {
     "name": "stdout",
     "output_type": "stream",
     "text": [
      "Confusion Matrix for the Logistic Regression with the default value of C (C=1)\n",
      "[[64032   244]\n",
      " [  369  2855]]\n"
     ]
    }
   ],
   "source": [
    "print('Confusion Matrix for the Logistic Regression with the default value of C (C=1)')\n",
    "print(confusion_matrix(y_val, logreg.predict(X_val)))"
   ]
  },
  {
   "cell_type": "markdown",
   "metadata": {},
   "source": [
    "The output of confusion_matrix is a two-by-two array, where the rows correspond to the true classes and the columns correspond to the predicted classes. Each entry counts how often a sample that belongs to the class corresponding to the row was classified as the class corresponding to the column. "
   ]
  },
  {
   "cell_type": "code",
   "execution_count": 27,
   "metadata": {
    "scrolled": true
   },
   "outputs": [
    {
     "name": "stdout",
     "output_type": "stream",
     "text": [
      "Confusion Matrix for the Logistic Regression with the value of C from the gridsearch (C=100)\n",
      "[[64003   273]\n",
      " [  328  2896]]\n"
     ]
    }
   ],
   "source": [
    "best_logreg = logreg_cv.best_estimator_\n",
    "print('Confusion Matrix for the Logistic Regression with the value of C from the gridsearch (C=100)')\n",
    "print(confusion_matrix(y_val, best_logreg.predict(X_val)))"
   ]
  },
  {
   "cell_type": "markdown",
   "metadata": {},
   "source": [
    "The .best_estimator_ attribute is an instance of the specified model type, which has the 'best' combination of given parameters from the param_grid. Whether or not this instance is useful depends on whether the refit parameter is set to True (it is by default)"
   ]
  },
  {
   "cell_type": "code",
   "execution_count": null,
   "metadata": {},
   "outputs": [],
   "source": []
  },
  {
   "cell_type": "code",
   "execution_count": null,
   "metadata": {},
   "outputs": [],
   "source": []
  },
  {
   "cell_type": "markdown",
   "metadata": {},
   "source": [
    "So, although with C=100 we get a higher F1 score, in this particular case we are interested in minimizing the false positives, since they are penalized with a loss of 25 EUR for the supermarket. And we can see that with C=100 we get a higher number of false positives than with C=1. Therefore we're going to define our own metric, based on the gains and losses for each case and use gridsearch again to find the C that maximizes that metric"
   ]
  },
  {
   "cell_type": "code",
   "execution_count": 28,
   "metadata": {},
   "outputs": [],
   "source": [
    "# Use statistical key figures, but especially the total costs or the total revenue"
   ]
  },
  {
   "cell_type": "code",
   "execution_count": 29,
   "metadata": {},
   "outputs": [],
   "source": [
    "def revenue(y_true, y_pred):\n",
    "    M = confusion_matrix(y_true, y_pred)\n",
    "    return (M[0,1]*(-25) + M[1,0]*(-5) + M[1,1]*(5)) / (M[0,0] + M[0,1] + M[1,0] + M[1,1])\n",
    "\n",
    "revenue_scorer = make_scorer(revenue)"
   ]
  },
  {
   "cell_type": "code",
   "execution_count": 30,
   "metadata": {},
   "outputs": [
    {
     "name": "stdout",
     "output_type": "stream",
     "text": [
      "If we didn't make any prediction mistakes, the score with this new metric would be: 0.23879629629629628\n"
     ]
    }
   ],
   "source": [
    "print(\"If we didn't make any prediction mistakes, the score with this new metric would be:\", revenue(y_train_val, y_train_val))"
   ]
  },
  {
   "cell_type": "code",
   "execution_count": 31,
   "metadata": {},
   "outputs": [
    {
     "name": "stdout",
     "output_type": "stream",
     "text": [
      "Tuned Logistic Regression Parameters: {'C': 0.1}\n",
      "Best score is 0.10564814814814816\n"
     ]
    }
   ],
   "source": [
    "c_space = np.logspace(-5, 5, 11)\n",
    "param_grid = {'C': c_space}\n",
    "\n",
    "logreg3 = LogisticRegression()\n",
    "logreg_cv_custom = GridSearchCV(logreg3, param_grid, cv=5, scoring=revenue_scorer)\n",
    "logreg_cv_custom.fit(X_train_val, y_train_val)\n",
    "\n",
    "# Print the tuned parameters and score\n",
    "print(\"Tuned Logistic Regression Parameters: {}\".format(logreg_cv_custom.best_params_)) \n",
    "print(\"Best score is {}\".format(logreg_cv_custom.best_score_))"
   ]
  },
  {
   "cell_type": "code",
   "execution_count": 32,
   "metadata": {},
   "outputs": [],
   "source": [
    "best_logreg_custom = logreg_cv_custom.best_estimator_"
   ]
  },
  {
   "cell_type": "markdown",
   "metadata": {},
   "source": [
    "Results on the test set:"
   ]
  },
  {
   "cell_type": "code",
   "execution_count": 33,
   "metadata": {},
   "outputs": [
    {
     "data": {
      "text/html": [
       "<div>\n",
       "<style scoped>\n",
       "    .dataframe tbody tr th:only-of-type {\n",
       "        vertical-align: middle;\n",
       "    }\n",
       "\n",
       "    .dataframe tbody tr th {\n",
       "        vertical-align: top;\n",
       "    }\n",
       "\n",
       "    .dataframe thead th {\n",
       "        text-align: right;\n",
       "    }\n",
       "</style>\n",
       "<table border=\"1\" class=\"dataframe\">\n",
       "  <thead>\n",
       "    <tr style=\"text-align: right;\">\n",
       "      <th></th>\n",
       "      <th>C=100</th>\n",
       "      <th>C=0.1</th>\n",
       "    </tr>\n",
       "  </thead>\n",
       "  <tbody>\n",
       "    <tr>\n",
       "      <th>F1</th>\n",
       "      <td>0.911994</td>\n",
       "      <td>0.883234</td>\n",
       "    </tr>\n",
       "    <tr>\n",
       "      <th>Revenue</th>\n",
       "      <td>0.106167</td>\n",
       "      <td>0.105333</td>\n",
       "    </tr>\n",
       "  </tbody>\n",
       "</table>\n",
       "</div>"
      ],
      "text/plain": [
       "            C=100     C=0.1\n",
       "F1       0.911994  0.883234\n",
       "Revenue  0.106167  0.105333"
      ]
     },
     "execution_count": 33,
     "metadata": {},
     "output_type": "execute_result"
    }
   ],
   "source": [
    "M = [[f1_score(y_test, best_logreg.predict(X_test)), f1_score(y_test, best_logreg_custom.predict(X_test))],\n",
    "     [revenue(y_test, best_logreg.predict(X_test)), revenue(y_test, best_logreg_custom.predict(X_test))]]\n",
    "\n",
    "pd.DataFrame(M, columns=['C=100', 'C=0.1'], index=['F1', 'Revenue'])"
   ]
  },
  {
   "cell_type": "code",
   "execution_count": 34,
   "metadata": {
    "scrolled": true
   },
   "outputs": [
    {
     "data": {
      "text/html": [
       "<div>\n",
       "<style scoped>\n",
       "    .dataframe tbody tr th:only-of-type {\n",
       "        vertical-align: middle;\n",
       "    }\n",
       "\n",
       "    .dataframe tbody tr th {\n",
       "        vertical-align: top;\n",
       "    }\n",
       "\n",
       "    .dataframe thead th {\n",
       "        text-align: right;\n",
       "    }\n",
       "</style>\n",
       "<table border=\"1\" class=\"dataframe\">\n",
       "  <thead>\n",
       "    <tr style=\"text-align: right;\">\n",
       "      <th></th>\n",
       "      <th>LevelOfTrust</th>\n",
       "      <th>ScanTimeInSeconds</th>\n",
       "      <th>TotalBasketValue</th>\n",
       "      <th>ScannedProducts</th>\n",
       "      <th>CountOfVoidedScans</th>\n",
       "      <th>ActivateWithoutScan</th>\n",
       "      <th>ModifiedQuantities</th>\n",
       "    </tr>\n",
       "  </thead>\n",
       "  <tbody>\n",
       "    <tr>\n",
       "      <th>0</th>\n",
       "      <td>2</td>\n",
       "      <td>202</td>\n",
       "      <td>76.39</td>\n",
       "      <td>16</td>\n",
       "      <td>10</td>\n",
       "      <td>0</td>\n",
       "      <td>5</td>\n",
       "    </tr>\n",
       "    <tr>\n",
       "      <th>1</th>\n",
       "      <td>3</td>\n",
       "      <td>165</td>\n",
       "      <td>3.55</td>\n",
       "      <td>9</td>\n",
       "      <td>3</td>\n",
       "      <td>8</td>\n",
       "      <td>3</td>\n",
       "    </tr>\n",
       "    <tr>\n",
       "      <th>2</th>\n",
       "      <td>3</td>\n",
       "      <td>1601</td>\n",
       "      <td>57.11</td>\n",
       "      <td>6</td>\n",
       "      <td>1</td>\n",
       "      <td>6</td>\n",
       "      <td>4</td>\n",
       "    </tr>\n",
       "    <tr>\n",
       "      <th>3</th>\n",
       "      <td>3</td>\n",
       "      <td>571</td>\n",
       "      <td>22.73</td>\n",
       "      <td>14</td>\n",
       "      <td>4</td>\n",
       "      <td>7</td>\n",
       "      <td>4</td>\n",
       "    </tr>\n",
       "    <tr>\n",
       "      <th>4</th>\n",
       "      <td>6</td>\n",
       "      <td>288</td>\n",
       "      <td>53.36</td>\n",
       "      <td>3</td>\n",
       "      <td>5</td>\n",
       "      <td>1</td>\n",
       "      <td>3</td>\n",
       "    </tr>\n",
       "    <tr>\n",
       "      <th>...</th>\n",
       "      <td>...</td>\n",
       "      <td>...</td>\n",
       "      <td>...</td>\n",
       "      <td>...</td>\n",
       "      <td>...</td>\n",
       "      <td>...</td>\n",
       "      <td>...</td>\n",
       "    </tr>\n",
       "    <tr>\n",
       "      <th>99995</th>\n",
       "      <td>1</td>\n",
       "      <td>1142</td>\n",
       "      <td>2.36</td>\n",
       "      <td>11</td>\n",
       "      <td>3</td>\n",
       "      <td>7</td>\n",
       "      <td>1</td>\n",
       "    </tr>\n",
       "    <tr>\n",
       "      <th>99996</th>\n",
       "      <td>5</td>\n",
       "      <td>1276</td>\n",
       "      <td>34.76</td>\n",
       "      <td>7</td>\n",
       "      <td>6</td>\n",
       "      <td>2</td>\n",
       "      <td>4</td>\n",
       "    </tr>\n",
       "    <tr>\n",
       "      <th>99997</th>\n",
       "      <td>4</td>\n",
       "      <td>540</td>\n",
       "      <td>52.79</td>\n",
       "      <td>12</td>\n",
       "      <td>10</td>\n",
       "      <td>0</td>\n",
       "      <td>5</td>\n",
       "    </tr>\n",
       "    <tr>\n",
       "      <th>99998</th>\n",
       "      <td>3</td>\n",
       "      <td>1195</td>\n",
       "      <td>39.40</td>\n",
       "      <td>24</td>\n",
       "      <td>0</td>\n",
       "      <td>0</td>\n",
       "      <td>2</td>\n",
       "    </tr>\n",
       "    <tr>\n",
       "      <th>99999</th>\n",
       "      <td>6</td>\n",
       "      <td>462</td>\n",
       "      <td>72.60</td>\n",
       "      <td>19</td>\n",
       "      <td>11</td>\n",
       "      <td>10</td>\n",
       "      <td>1</td>\n",
       "    </tr>\n",
       "  </tbody>\n",
       "</table>\n",
       "<p>100000 rows × 7 columns</p>\n",
       "</div>"
      ],
      "text/plain": [
       "       LevelOfTrust  ScanTimeInSeconds  TotalBasketValue  ScannedProducts  \\\n",
       "0                 2                202             76.39               16   \n",
       "1                 3                165              3.55                9   \n",
       "2                 3               1601             57.11                6   \n",
       "3                 3                571             22.73               14   \n",
       "4                 6                288             53.36                3   \n",
       "...             ...                ...               ...              ...   \n",
       "99995             1               1142              2.36               11   \n",
       "99996             5               1276             34.76                7   \n",
       "99997             4                540             52.79               12   \n",
       "99998             3               1195             39.40               24   \n",
       "99999             6                462             72.60               19   \n",
       "\n",
       "       CountOfVoidedScans  ActivateWithoutScan  ModifiedQuantities  \n",
       "0                      10                    0                   5  \n",
       "1                       3                    8                   3  \n",
       "2                       1                    6                   4  \n",
       "3                       4                    7                   4  \n",
       "4                       5                    1                   3  \n",
       "...                   ...                  ...                 ...  \n",
       "99995                   3                    7                   1  \n",
       "99996                   6                    2                   4  \n",
       "99997                  10                    0                   5  \n",
       "99998                   0                    0                   2  \n",
       "99999                  11                   10                   1  \n",
       "\n",
       "[100000 rows x 7 columns]"
      ]
     },
     "execution_count": 34,
     "metadata": {},
     "output_type": "execute_result"
    }
   ],
   "source": [
    "# Hand-in your fraud predictions (0/1) for each of the 100,000 cases of the scoring dataset\n",
    "\n",
    "scoring = pd.read_csv('W06_scoring.txt', delimiter=\";\")\n",
    "scoring"
   ]
  },
  {
   "cell_type": "code",
   "execution_count": 35,
   "metadata": {},
   "outputs": [
    {
     "data": {
      "text/html": [
       "<div>\n",
       "<style scoped>\n",
       "    .dataframe tbody tr th:only-of-type {\n",
       "        vertical-align: middle;\n",
       "    }\n",
       "\n",
       "    .dataframe tbody tr th {\n",
       "        vertical-align: top;\n",
       "    }\n",
       "\n",
       "    .dataframe thead th {\n",
       "        text-align: right;\n",
       "    }\n",
       "</style>\n",
       "<table border=\"1\" class=\"dataframe\">\n",
       "  <thead>\n",
       "    <tr style=\"text-align: right;\">\n",
       "      <th></th>\n",
       "      <th>LevelOfTrust</th>\n",
       "      <th>ScanTimeInSeconds</th>\n",
       "      <th>TotalBasketValue</th>\n",
       "      <th>ScannedProducts</th>\n",
       "      <th>CountOfVoidedScans</th>\n",
       "      <th>ActivateWithoutScan</th>\n",
       "      <th>ModifiedQuantities</th>\n",
       "    </tr>\n",
       "  </thead>\n",
       "  <tbody>\n",
       "    <tr>\n",
       "      <th>0</th>\n",
       "      <td>0.333333</td>\n",
       "      <td>0.105208</td>\n",
       "      <td>0.728495</td>\n",
       "      <td>0.533333</td>\n",
       "      <td>0.909091</td>\n",
       "      <td>0.0</td>\n",
       "      <td>1.0</td>\n",
       "    </tr>\n",
       "    <tr>\n",
       "      <th>1</th>\n",
       "      <td>0.500000</td>\n",
       "      <td>0.085938</td>\n",
       "      <td>0.033855</td>\n",
       "      <td>0.300000</td>\n",
       "      <td>0.272727</td>\n",
       "      <td>0.8</td>\n",
       "      <td>0.6</td>\n",
       "    </tr>\n",
       "    <tr>\n",
       "      <th>2</th>\n",
       "      <td>0.500000</td>\n",
       "      <td>0.833854</td>\n",
       "      <td>0.544631</td>\n",
       "      <td>0.200000</td>\n",
       "      <td>0.090909</td>\n",
       "      <td>0.6</td>\n",
       "      <td>0.8</td>\n",
       "    </tr>\n",
       "    <tr>\n",
       "      <th>3</th>\n",
       "      <td>0.500000</td>\n",
       "      <td>0.297396</td>\n",
       "      <td>0.216765</td>\n",
       "      <td>0.466667</td>\n",
       "      <td>0.363636</td>\n",
       "      <td>0.7</td>\n",
       "      <td>0.8</td>\n",
       "    </tr>\n",
       "    <tr>\n",
       "      <th>4</th>\n",
       "      <td>1.000000</td>\n",
       "      <td>0.150000</td>\n",
       "      <td>0.508869</td>\n",
       "      <td>0.100000</td>\n",
       "      <td>0.454545</td>\n",
       "      <td>0.1</td>\n",
       "      <td>0.6</td>\n",
       "    </tr>\n",
       "    <tr>\n",
       "      <th>...</th>\n",
       "      <td>...</td>\n",
       "      <td>...</td>\n",
       "      <td>...</td>\n",
       "      <td>...</td>\n",
       "      <td>...</td>\n",
       "      <td>...</td>\n",
       "      <td>...</td>\n",
       "    </tr>\n",
       "    <tr>\n",
       "      <th>99995</th>\n",
       "      <td>0.166667</td>\n",
       "      <td>0.594792</td>\n",
       "      <td>0.022506</td>\n",
       "      <td>0.366667</td>\n",
       "      <td>0.272727</td>\n",
       "      <td>0.7</td>\n",
       "      <td>0.2</td>\n",
       "    </tr>\n",
       "    <tr>\n",
       "      <th>99996</th>\n",
       "      <td>0.833333</td>\n",
       "      <td>0.664583</td>\n",
       "      <td>0.331490</td>\n",
       "      <td>0.233333</td>\n",
       "      <td>0.545455</td>\n",
       "      <td>0.2</td>\n",
       "      <td>0.8</td>\n",
       "    </tr>\n",
       "    <tr>\n",
       "      <th>99997</th>\n",
       "      <td>0.666667</td>\n",
       "      <td>0.281250</td>\n",
       "      <td>0.503433</td>\n",
       "      <td>0.400000</td>\n",
       "      <td>0.909091</td>\n",
       "      <td>0.0</td>\n",
       "      <td>1.0</td>\n",
       "    </tr>\n",
       "    <tr>\n",
       "      <th>99998</th>\n",
       "      <td>0.500000</td>\n",
       "      <td>0.622396</td>\n",
       "      <td>0.375739</td>\n",
       "      <td>0.800000</td>\n",
       "      <td>0.000000</td>\n",
       "      <td>0.0</td>\n",
       "      <td>0.4</td>\n",
       "    </tr>\n",
       "    <tr>\n",
       "      <th>99999</th>\n",
       "      <td>1.000000</td>\n",
       "      <td>0.240625</td>\n",
       "      <td>0.692352</td>\n",
       "      <td>0.633333</td>\n",
       "      <td>1.000000</td>\n",
       "      <td>1.0</td>\n",
       "      <td>0.2</td>\n",
       "    </tr>\n",
       "  </tbody>\n",
       "</table>\n",
       "<p>100000 rows × 7 columns</p>\n",
       "</div>"
      ],
      "text/plain": [
       "       LevelOfTrust  ScanTimeInSeconds  TotalBasketValue  ScannedProducts  \\\n",
       "0          0.333333           0.105208          0.728495         0.533333   \n",
       "1          0.500000           0.085938          0.033855         0.300000   \n",
       "2          0.500000           0.833854          0.544631         0.200000   \n",
       "3          0.500000           0.297396          0.216765         0.466667   \n",
       "4          1.000000           0.150000          0.508869         0.100000   \n",
       "...             ...                ...               ...              ...   \n",
       "99995      0.166667           0.594792          0.022506         0.366667   \n",
       "99996      0.833333           0.664583          0.331490         0.233333   \n",
       "99997      0.666667           0.281250          0.503433         0.400000   \n",
       "99998      0.500000           0.622396          0.375739         0.800000   \n",
       "99999      1.000000           0.240625          0.692352         0.633333   \n",
       "\n",
       "       CountOfVoidedScans  ActivateWithoutScan  ModifiedQuantities  \n",
       "0                0.909091                  0.0                 1.0  \n",
       "1                0.272727                  0.8                 0.6  \n",
       "2                0.090909                  0.6                 0.8  \n",
       "3                0.363636                  0.7                 0.8  \n",
       "4                0.454545                  0.1                 0.6  \n",
       "...                   ...                  ...                 ...  \n",
       "99995            0.272727                  0.7                 0.2  \n",
       "99996            0.545455                  0.2                 0.8  \n",
       "99997            0.909091                  0.0                 1.0  \n",
       "99998            0.000000                  0.0                 0.4  \n",
       "99999            1.000000                  1.0                 0.2  \n",
       "\n",
       "[100000 rows x 7 columns]"
      ]
     },
     "execution_count": 35,
     "metadata": {},
     "output_type": "execute_result"
    }
   ],
   "source": [
    "scoring_scaled = scoring.apply(lambda x: x / x.max())\n",
    "scoring_scaled"
   ]
  },
  {
   "cell_type": "code",
   "execution_count": 36,
   "metadata": {},
   "outputs": [
    {
     "data": {
      "text/plain": [
       "4194"
      ]
     },
     "execution_count": 36,
     "metadata": {},
     "output_type": "execute_result"
    }
   ],
   "source": [
    "fraud_prediction = best_logreg_custom.predict(scoring_scaled)\n",
    "sum(fraud_prediction)"
   ]
  },
  {
   "cell_type": "markdown",
   "metadata": {},
   "source": [
    "**Observation**: The number of incorrect labeled samples is probably a bit higher using C=0.1 than C=100, but we decided to optimize the revenue and not the F1 score."
   ]
  },
  {
   "cell_type": "code",
   "execution_count": 37,
   "metadata": {},
   "outputs": [
    {
     "data": {
      "text/plain": [
       "array([0, 0, 0, ..., 0, 0, 0])"
      ]
     },
     "execution_count": 37,
     "metadata": {},
     "output_type": "execute_result"
    }
   ],
   "source": [
    "fraud_prediction"
   ]
  },
  {
   "cell_type": "code",
   "execution_count": null,
   "metadata": {},
   "outputs": [],
   "source": []
  },
  {
   "cell_type": "markdown",
   "metadata": {},
   "source": [
    "Resource: Introduction to Machine Learning with Python by Andreas C. Müller and Sarah Guido"
   ]
  }
 ],
 "metadata": {
  "kernelspec": {
   "display_name": "Python 3",
   "language": "python",
   "name": "python3"
  },
  "language_info": {
   "codemirror_mode": {
    "name": "ipython",
    "version": 3
   },
   "file_extension": ".py",
   "mimetype": "text/x-python",
   "name": "python",
   "nbconvert_exporter": "python",
   "pygments_lexer": "ipython3",
   "version": "3.7.6"
  }
 },
 "nbformat": 4,
 "nbformat_minor": 4
}
